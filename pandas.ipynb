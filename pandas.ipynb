{
 "cells": [
  {
   "cell_type": "code",
   "execution_count": null,
   "id": "3ab72994-884c-4764-8d43-8c158fb5e7c7",
   "metadata": {},
   "outputs": [
    {
     "name": "stdout",
     "output_type": "stream",
     "text": [
      "a    anandhapuram\n",
      "s           sagar\n",
      "s        shimogha\n",
      "k          kamrur\n",
      "dtype: object\n"
     ]
    }
   ],
   "source": [
    "import pandas as pd\n",
    "import numpy as np\n",
    "\n",
    "data=['anandhapuram', 'sagar', 'shimogha', 'kamrur']\n",
    "index=['a','s','s','k']\n",
    "a=pd.Series(data,index)\n",
    "print(a)"
   ]
  },
  {
   "cell_type": "code",
   "execution_count": null,
   "id": "13c20b4e-8d8e-43fa-baa1-ec987363c1be",
   "metadata": {},
   "outputs": [
    {
     "name": "stdout",
     "output_type": "stream",
     "text": [
      "1    [[10, 20, 30], [15, 25, 35]]\n",
      "2    [[11, 22, 33], [16, 27, 37]]\n",
      "dtype: object\n"
     ]
    }
   ],
   "source": [
    "a1=np.array([ [10,20,30],[15,25,35]])\n",
    "a2=np.array([ [11,22,33],[16,27,37]])\n",
    "data=a1,a2\n",
    "index=1,2\n",
    "a=pd.Series(data,index)\n",
    "print(a)"
   ]
  },
  {
   "cell_type": "code",
   "execution_count": null,
   "id": "6c4811d7-9135-4a9a-b5e1-a7bf9e7def03",
   "metadata": {},
   "outputs": [],
   "source": []
  },
  {
   "cell_type": "code",
   "execution_count": null,
   "id": "18c7cf1c-4a04-4738-9784-c7f7fabd1720",
   "metadata": {},
   "outputs": [],
   "source": []
  },
  {
   "cell_type": "code",
   "execution_count": null,
   "id": "42600f76-7d0c-4439-b000-bb57f022c5e9",
   "metadata": {},
   "outputs": [
    {
     "name": "stdout",
     "output_type": "stream",
     "text": [
      "0    {0: 'charan', 1: 'dhanush', 2: 'arvinda'}\n",
      "1                         {0: 10, 1: 30, 2: 5}\n",
      "dtype: object\n"
     ]
    }
   ],
   "source": [
    "names={0:'charan', 1: 'dhanush', 2: 'arvinda'}\n",
    "marks= {0: 10, 1: 30, 2: 5}\n",
    "data= names, marks\n",
    "a=pd.Series(data)\n",
    "print(a)"
   ]
  },
  {
   "cell_type": "code",
   "execution_count": null,
   "id": "c6f064a0-145a-49b2-9d84-524a9fdeeafa",
   "metadata": {},
   "outputs": [
    {
     "name": "stdout",
     "output_type": "stream",
     "text": [
      "        0        1        2\n",
      "0  charan  dhanush  arvinda\n",
      "1      10       30        5\n"
     ]
    }
   ],
   "source": [
    "a=pd.DataFrame(data)\n",
    "print(a)"
   ]
  },
  {
   "cell_type": "code",
   "execution_count": null,
   "id": "2e1f1654-d99b-413b-b237-b6dc2c12ec76",
   "metadata": {},
   "outputs": [],
   "source": []
  },
  {
   "cell_type": "code",
   "execution_count": null,
   "id": "d02f95f1-a07b-4134-9b3d-4e8d69ce00b6",
   "metadata": {},
   "outputs": [
    {
     "name": "stdout",
     "output_type": "stream",
     "text": [
      "    0   1   2\n",
      "0  10  20  30\n",
      "1  15  25  35\n"
     ]
    }
   ],
   "source": [
    "a1=np.array([ [10,20,30],[15,25,35]])\n",
    "print(pd.DataFrame(a1))"
   ]
  },
  {
   "cell_type": "code",
   "execution_count": null,
   "id": "2f050a51-cc5d-4643-bd10-ab04d1e3b85b",
   "metadata": {},
   "outputs": [],
   "source": []
  },
  {
   "cell_type": "code",
   "execution_count": null,
   "id": "96b48669-41a2-4ee4-ba65-616b28eaa406",
   "metadata": {},
   "outputs": [
    {
     "name": "stdout",
     "output_type": "stream",
     "text": [
      "   s1  s2  s3\n",
      "0  10  11  12\n",
      "1  20  22  23\n",
      "2  30  33  34\n",
      "3  15  16  15\n",
      "4  25  27  25\n",
      "5  35  37  35\n"
     ]
    }
   ],
   "source": [
    "s1=np.array([ 10,20,30,15,25,35])\n",
    "s2=np.array([11,22,33, 16,27,37])\n",
    "s3=np.array( [12,23,34,15,25,35])\n",
    "data={'s1': s1,'s2':s2,'s3':s3}\n",
    "a=pd.DataFrame(data)\n",
    "print(a)"
   ]
  },
  {
   "cell_type": "code",
   "execution_count": null,
   "id": "c58d2b8f-1d7d-4f46-a93d-0689a51c5523",
   "metadata": {},
   "outputs": [
    {
     "name": "stdout",
     "output_type": "stream",
     "text": [
      "   Unnamed: 0         0         1         2         3\n",
      "0           0 -2.582892  0.430148 -1.240820  1.595726\n",
      "1           1  0.990278  1.171510  0.941257 -0.146925\n",
      "2           2  0.769893  0.812997 -0.950684  0.117696\n",
      "3           3  0.204840  0.347845  1.969792  0.519928\n"
     ]
    }
   ],
   "source": [
    "celebs= pd.read_csv('pd.csv')\n",
    "print(celebs)"
   ]
  },
  {
   "cell_type": "code",
   "execution_count": null,
   "id": "302a06bd-0873-468a-ba95-a2ea78991853",
   "metadata": {},
   "outputs": [],
   "source": []
  },
  {
   "cell_type": "code",
   "execution_count": null,
   "id": "1957cdc0-b778-4472-b2e9-14fb2e2066ad",
   "metadata": {},
   "outputs": [],
   "source": []
  }
 ],
 "metadata": {
  "kernelspec": {
   "display_name": "Python 3 (ipykernel)",
   "language": "python",
   "name": "python3"
  },
  "language_info": {
   "codemirror_mode": {
    "name": "ipython",
    "version": 3
   },
   "file_extension": ".py",
   "mimetype": "text/x-python",
   "name": "python",
   "nbconvert_exporter": "python",
   "pygments_lexer": "ipython3",
   "version": "3.13.5"
  }
 },
 "nbformat": 4,
 "nbformat_minor": 5
}
